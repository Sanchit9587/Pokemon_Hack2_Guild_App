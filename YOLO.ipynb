{
 "cells": [
  {
   "cell_type": "code",
   "execution_count": 1,
   "metadata": {
    "colab": {
     "base_uri": "https://localhost:8080/"
    },
    "executionInfo": {
     "elapsed": 5428,
     "status": "ok",
     "timestamp": 1758198450283,
     "user": {
      "displayName": "Sai Ashish Mishra",
      "userId": "05208984346281937241"
     },
     "user_tz": -330
    },
    "id": "vzCbizpu2-X6",
    "outputId": "09174f66-acc0-4ef4-e1cd-b9c2308aa234"
   },
   "outputs": [
    {
     "name": "stdout",
     "output_type": "stream",
     "text": [
      "\u001b[31mERROR: Could not install packages due to an OSError: [Errno 28] No space left on device\n",
      "\u001b[0m\u001b[31m\n",
      "\u001b[0mNote: you may need to restart the kernel to use updated packages.\n",
      "Note: you may need to restart the kernel to use updated packages.\n"
     ]
    }
   ],
   "source": [
    "pip install ultralytics                               #installing the required libraries"
   ]
  },
  {
   "cell_type": "code",
   "execution_count": null,
   "metadata": {
    "executionInfo": {
     "elapsed": 2407,
     "status": "ok",
     "timestamp": 1758198463496,
     "user": {
      "displayName": "Sai Ashish Mishra",
      "userId": "05208984346281937241"
     },
     "user_tz": -330
    },
    "id": "XraH0TYupRnZ"
   },
   "outputs": [],
   "source": [
    "from ultralytics import YOLO\n",
    "\n",
    "model = YOLO(\"yolo11n.pt\")  #loading the yolo model\n"
   ]
  },
  {
   "cell_type": "code",
   "execution_count": null,
   "metadata": {
    "colab": {
     "base_uri": "https://localhost:8080/",
     "height": 1000
    },
    "executionInfo": {
     "elapsed": 5564,
     "status": "error",
     "timestamp": 1758198470899,
     "user": {
      "displayName": "Sai Ashish Mishra",
      "userId": "05208984346281937241"
     },
     "user_tz": -330
    },
    "id": "if8aFmEDxfso",
    "outputId": "65de2480-c57d-4ab0-eff6-b59ae263a69e"
   },
   "outputs": [],
   "source": [
    "model.train(\n",
    "  data=\"/content/drive/MyDrive/Pokemon_Hack2_Guild_App/data.yml\",\n",
    "  epochs=100,\n",
    "  imgsz=640,            # input image size, adjust as needed\n",
    "  batch=16,             # batch size depending on GPU\n",
    "  device=0              # GPU index or \"cpu\"\n",
    ")\n"
   ]
  },
  {
   "cell_type": "code",
   "execution_count": null,
   "metadata": {
    "id": "xpY9NW9Otzfk"
   },
   "outputs": [],
   "source": [
    "model.val()  # uses validation split from your yaml"
   ]
  },
  {
   "cell_type": "markdown",
   "metadata": {
    "id": "uo0RJhq4wNqu"
   },
   "source": [
    "Modifying the YOLO dataset to make the class of every image be 0(we are not doing classification using YOLO)"
   ]
  },
  {
   "cell_type": "code",
   "execution_count": null,
   "metadata": {
    "id": "Q2UzJvuDwDFX"
   },
   "outputs": [],
   "source": [
    "import os\n",
    "# Path to your labels folder in Drive\n",
    "labels_root = \"/content/drive/MyDrive/Pokemon_Hack2_Guild_App/labels\"\n",
    "\n",
    "fixed = 0\n",
    "skipped = 0\n",
    "\n",
    "# Walk through train/val/test folders if they exist\n",
    "for split in [\"train\", \"val\", \"test\"]:\n",
    "    split_dir = os.path.join(labels_root, split)\n",
    "    if not os.path.exists(split_dir):\n",
    "        continue\n",
    "\n",
    "    for file in os.listdir(split_dir):\n",
    "        if not file.endswith(\".txt\"):\n",
    "            continue\n",
    "        file_path = os.path.join(split_dir, file)\n",
    "\n",
    "        with open(file_path, \"r\") as f:\n",
    "            lines = f.readlines()\n",
    "\n",
    "        new_lines = []\n",
    "        for line in lines:\n",
    "            parts = line.strip().split()\n",
    "            if len(parts) >= 5:  # valid YOLO line\n",
    "                parts[0] = \"0\"   # force class id = 0\n",
    "                new_lines.append(\" \".join(parts))\n",
    "\n",
    "        # Write back (overwrite file)\n",
    "        with open(file_path, \"w\") as f:\n",
    "            f.write(\"\\n\".join(new_lines))\n",
    "\n",
    "        fixed += 1 if new_lines else 0\n",
    "        skipped += 1 if not new_lines else 0\n",
    "\n",
    "print(f\"✅ Updated {fixed} label files, skipped {skipped} empty ones.\")\n"
   ]
  },
  {
   "cell_type": "code",
   "execution_count": null,
   "metadata": {
    "id": "sozfujaIt0hV"
   },
   "outputs": [],
   "source": [
    "results = model.predict(source=\"path/to/images_or_video\", imgsz=640)\n",
    "results.save()  # or show, etc."
   ]
  }
 ],
 "metadata": {
  "accelerator": "GPU",
  "colab": {
   "authorship_tag": "ABX9TyNgY/25CCElVGvw/fg6v73U",
   "gpuType": "T4",
   "mount_file_id": "1qFMDuikZHknzAcsiBD_BRpPYYnYreAKA",
   "provenance": []
  },
  "kernelspec": {
   "display_name": "Python 3",
   "language": "python",
   "name": "python3"
  },
  "language_info": {
   "codemirror_mode": {
    "name": "ipython",
    "version": 3
   },
   "file_extension": ".py",
   "mimetype": "text/x-python",
   "name": "python",
   "nbconvert_exporter": "python",
   "pygments_lexer": "ipython3",
   "version": "3.12.3"
  }
 },
 "nbformat": 4,
 "nbformat_minor": 0
}
