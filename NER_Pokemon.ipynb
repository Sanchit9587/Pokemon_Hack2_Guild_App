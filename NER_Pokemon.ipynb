{
  "nbformat": 4,
  "nbformat_minor": 0,
  "metadata": {
    "colab": {
      "provenance": [],
      "gpuType": "T4",
      "authorship_tag": "ABX9TyMIzDx/IKkz3MWnJKH0SgJ5",
      "include_colab_link": true
    },
    "kernelspec": {
      "name": "python3",
      "display_name": "Python 3"
    },
    "language_info": {
      "name": "python"
    },
    "accelerator": "GPU"
  },
  "cells": [
    {
      "cell_type": "markdown",
      "metadata": {
        "id": "view-in-github",
        "colab_type": "text"
      },
      "source": [
        "<a href=\"https://colab.research.google.com/github/Sanchit9587/Pokemon_Hack2_Guild_App/blob/NER%26NLP/NER_Pokemon.ipynb\" target=\"_parent\"><img src=\"https://colab.research.google.com/assets/colab-badge.svg\" alt=\"Open In Colab\"/></a>"
      ]
    },
    {
      "cell_type": "code",
      "source": [
        "!pip install -q -U spacy\n",
        "!python -m spacy download en_core_web_sm -q\n",
        "\n",
        "import os\n",
        "import random\n",
        "import spacy\n",
        "from spacy.training import Example\n",
        "from spacy.util import minibatch, compounding"
      ],
      "metadata": {
        "id": "0VGQK0y452T9",
        "colab": {
          "base_uri": "https://localhost:8080/"
        },
        "outputId": "b8037f9d-4a60-4c95-e71a-63262fa8b3ae"
      },
      "execution_count": null,
      "outputs": [
        {
          "output_type": "stream",
          "name": "stdout",
          "text": [
            "\u001b[?25l     \u001b[90m━━━━━━━━━━━━━━━━━━━━━━━━━━━━━━━━━━━━━━━━\u001b[0m \u001b[32m0.0/12.8 MB\u001b[0m \u001b[31m?\u001b[0m eta \u001b[36m-:--:--\u001b[0m\r\u001b[2K     \u001b[91m━━━━━\u001b[0m\u001b[90m╺\u001b[0m\u001b[90m━━━━━━━━━━━━━━━━━━━━━━━━━━━━━━━━━━\u001b[0m \u001b[32m1.7/12.8 MB\u001b[0m \u001b[31m51.2 MB/s\u001b[0m eta \u001b[36m0:00:01\u001b[0m\r\u001b[2K     \u001b[91m━━━━━━━━━━━━━━━━━━━━━━━━━━━━━━\u001b[0m\u001b[90m╺\u001b[0m\u001b[90m━━━━━━━━━\u001b[0m \u001b[32m9.6/12.8 MB\u001b[0m \u001b[31m140.6 MB/s\u001b[0m eta \u001b[36m0:00:01\u001b[0m\r\u001b[2K     \u001b[91m━━━━━━━━━━━━━━━━━━━━━━━━━━━━━━━━━━━━━━\u001b[0m\u001b[91m╸\u001b[0m \u001b[32m12.8/12.8 MB\u001b[0m \u001b[31m244.8 MB/s\u001b[0m eta \u001b[36m0:00:01\u001b[0m\r\u001b[2K     \u001b[90m━━━━━━━━━━━━━━━━━━━━━━━━━━━━━━━━━━━━━━━\u001b[0m \u001b[32m12.8/12.8 MB\u001b[0m \u001b[31m130.3 MB/s\u001b[0m eta \u001b[36m0:00:00\u001b[0m\n",
            "\u001b[?25h\u001b[38;5;2m✔ Download and installation successful\u001b[0m\n",
            "You can now load the package via spacy.load('en_core_web_sm')\n",
            "\u001b[38;5;3m⚠ Restart to reload dependencies\u001b[0m\n",
            "If you are in a Jupyter or Colab notebook, you may need to restart Python in\n",
            "order to load all the package's dependencies. You can do this by selecting the\n",
            "'Restart kernel' or 'Restart runtime' option.\n"
          ]
        }
      ]
    },
    {
      "cell_type": "code",
      "source": [
        "TRAIN_DATA = [\n",
        "    # --- Original style, fixed spellings ---\n",
        "    (\n",
        "        \"In the heart of the forest, Pikachu darted between the trees, its cheeks sparking with electricity. Charizard soared overhead, casting a shadow on the ground below. Mewtwo watched silently from a distance, while Bulbasaur napped under a large leaf.\",\n",
        "        {\"entities\": [(32, 39, \"POKEMON\"), (98, 107, \"POKEMON\"), (147, 153, \"POKEMON\"), (183, 192, \"POKEMON\")]}\n",
        "    ),\n",
        "    (\n",
        "        \"Charizard and Pikachu teamed up to face Mewtwo in an epic battle. Bulbasaur cheered from the sidelines, its vines waving excitedly.\",\n",
        "        {\"entities\": [(0, 9, \"POKEMON\"), (14, 21, \"POKEMON\"), (40, 46, \"POKEMON\"), (72, 81, \"POKEMON\")]}\n",
        "    ),\n",
        "    (\n",
        "        \"Bulbasaur, Pikachu, and Charizard explored the ancient ruins, unaware that Mewtwo was observing their every move.\",\n",
        "        {\"entities\": [(0, 9, \"POKEMON\"), (11, 18, \"POKEMON\"), (24, 33, \"POKEMON\"), (69, 75, \"POKEMON\")]}\n",
        "    ),\n",
        "    (\n",
        "        \"Mewtwo challenged Charizard to a duel at sunrise. Pikachu and Bulbasaur watched with anticipation as the two powerful Pokémon clashed.\",\n",
        "        {\"entities\": [(0, 6, \"POKEMON\"), (18, 27, \"POKEMON\"), (41, 48, \"POKEMON\"), (53, 62, \"POKEMON\")]}\n",
        "    ),\n",
        "    (\n",
        "        \"Pikachu ran circles around Bulbasaur, while Charizard tried to keep up. Mewtwo simply levitated above them, amused by their antics.\",\n",
        "        {\"entities\": [(0, 7, \"POKEMON\"), (27, 36, \"POKEMON\"), (44, 53, \"POKEMON\"), (75, 81, \"POKEMON\")]}\n",
        "    ),\n",
        "    (\n",
        "        \"The four friends—Charizard, Pikachu, Mewtwo, and Bulbasaur—set out on a journey across the land, facing many challenges together.\",\n",
        "        {\"entities\": [(19, 28, \"POKEMON\"), (30, 37, \"POKEMON\"), (39, 45, \"POKEMON\"), (51, 60, \"POKEMON\")]}\n",
        "    ),\n",
        "    (\n",
        "        \"Charizard unleashed a fiery blast, but Pikachu dodged and countered with a thunderbolt. Mewtwo shielded Bulbasaur from the shockwave.\",\n",
        "        {\"entities\": [(0, 9, \"POKEMON\"), (45, 52, \"POKEMON\"), (83, 89, \"POKEMON\"), (99, 108, \"POKEMON\")]}\n",
        "    ),\n",
        "    (\n",
        "        \"Bulbasaur and Mewtwo worked together to solve the puzzle, while Pikachu and Charizard scouted ahead for danger.\",\n",
        "        {\"entities\": [(0, 9, \"POKEMON\"), (14, 20, \"POKEMON\"), (57, 64, \"POKEMON\"), (69, 78, \"POKEMON\")]}\n",
        "    ),\n",
        "    (\n",
        "        \"Pikachu, Bulbasaur, Charizard, and Mewtwo gathered around the campfire, sharing stories of their adventures.\",\n",
        "        {\"entities\": [(0, 7, \"POKEMON\"), (9, 18, \"POKEMON\"), (20, 29, \"POKEMON\"), (35, 41, \"POKEMON\")]}\n",
        "    ),\n",
        "    (\n",
        "        \"As the sun set, Mewtwo meditated quietly, while Charizard practiced its flying. Pikachu and Bulbasaur played nearby.\",\n",
        "        {\"entities\": [(16, 22, \"POKEMON\"), (45, 54, \"POKEMON\"), (68, 75, \"POKEMON\"), (80, 89, \"POKEMON\")]}\n",
        "    ),\n",
        "\n",
        "    # --- HQ-style new examples ---\n",
        "    (\n",
        "        \"HQ confirms multiple Bulbasaurs nesting near the western perimeter. Pikachus have been spotted forming small groups, while Charizard circles overhead. Mewtwo remains unseen.\",\n",
        "        {\"entities\": [(20, 30, \"POKEMON\"), (62, 70, \"POKEMON\"), (112, 121, \"POKEMON\"), (129, 135, \"POKEMON\")]}\n",
        "    ),\n",
        "    (\n",
        "        \"Urgent: Pikachu interference disrupted comm lines last night. Charizard flew reconnaissance, Bulbasaur entrenched in tunnels, and Mewtwo projected illusions to confuse our scouts.\",\n",
        "        {\"entities\": [(8, 15, \"POKEMON\"), (54, 63, \"POKEMON\"), (65, 74, \"POKEMON\"), (100, 106, \"POKEMON\")]}\n",
        "    ),\n",
        "    (\n",
        "        \"Command reports: Mewtwo manipulating Bulbasaur swarms underground. Pikachu stationed near the power grid. Charizard’s shadow detected in the upper skies.\",\n",
        "        {\"entities\": [(17, 23, \"POKEMON\"), (38, 47, \"POKEMON\"), (68, 75, \"POKEMON\"), (101, 110, \"POKEMON\")]}\n",
        "    ),\n",
        "    (\n",
        "        \"Scouts intercepted Pikachus traveling east. Bulbasaur guarded the caves while Mewtwo observed from ruins. Charizard executed a flyover.\",\n",
        "        {\"entities\": [(19, 27, \"POKEMON\"), (39, 48, \"POKEMON\"), (63, 69, \"POKEMON\"), (98, 107, \"POKEMON\")]}\n",
        "    ),\n",
        "    (\n",
        "        \"HQ intel: Charizard hovering above the valley, while Pikachu clusters defended supply lines. Several Bulbasaurs detected underground. Mewtwo monitoring psychic signals.\",\n",
        "        {\"entities\": [(9, 18, \"POKEMON\"), (45, 52, \"POKEMON\"), (82, 92, \"POKEMON\"), (115, 121, \"POKEMON\")]}\n",
        "    ),\n",
        "    (\n",
        "        \"Field report: Bulbasaur activity near rivers increasing. Charizard spotted late evening. Pikachu remained neutral while Mewtwo vanished without trace.\",\n",
        "        {\"entities\": [(14, 23, \"POKEMON\"), (55, 64, \"POKEMON\"), (82, 89, \"POKEMON\"), (102, 108, \"POKEMON\")]}\n",
        "    ),\n",
        "    (\n",
        "        \"Satellite scan: Mewtwo coordinating Pikachu units. Bulbasaur roots blocking main roads. Charizard flying high to distract observers.\",\n",
        "        {\"entities\": [(16, 22, \"POKEMON\"), (36, 43, \"POKEMON\"), (45, 54, \"POKEMON\"), (83, 92, \"POKEMON\")]}\n",
        "    ),\n",
        "    (\n",
        "        \"Recon suggests Pikachu disrupting electronics in HQ. Charizard scouted ridges at dawn. Mewtwo hiding in nearby ruins, while Bulbasaurs advanced from marshes.\",\n",
        "        {\"entities\": [(14, 21, \"POKEMON\"), (52, 61, \"POKEMON\"), (71, 77, \"POKEMON\"), (107, 117, \"POKEMON\")]}\n",
        "    ),\n",
        "    (\n",
        "        \"Tactical briefing: Bulbasaur nests multiplying across lowlands. Charizard detected in high atmosphere. Pikachus forming swarms at nightfall. Mewtwo interference confirmed.\",\n",
        "        {\"entities\": [(19, 28, \"POKEMON\"), (58, 67, \"POKEMON\"), (96, 104, \"POKEMON\"), (124, 130, \"POKEMON\")]}\n",
        "    ),\n",
        "    (\n",
        "        \"Mission orders: Charizard to be monitored but not engaged. Mewtwo suspected behind psychic anomalies. Bulbasaur guarding caves, Pikachu maintaining neutrality.\",\n",
        "        {\"entities\": [(16, 25, \"POKEMON\"), (58, 64, \"POKEMON\"), (87, 96, \"POKEMON\"), (98, 105, \"POKEMON\")]}\n",
        "    ),\n",
        "    (\n",
        "        \"HQ alert: Pikachu units have established positions near generator fields. Bulbasaur vines detected in multiple sectors. Charizard patrolling skies, Mewtwo remains cloaked.\",\n",
        "        {\"entities\": [(9, 16, \"POKEMON\"), (70, 79, \"POKEMON\"), (111, 120, \"POKEMON\"), (128, 134, \"POKEMON\")]}\n",
        "    ),\n",
        "    (\n",
        "        \"Commander note: Several Bulbasaurs moving quickly near the ridge. Mewtwo observed briefly. Pikachu signals intercepted. Charizard remains above the horizon.\",\n",
        "        {\"entities\": [(19, 29, \"POKEMON\"), (63, 69, \"POKEMON\"), (81, 88, \"POKEMON\"), (118, 127, \"POKEMON\")]}\n",
        "    ),\n",
        "    (\n",
        "        \"HQ reports: Charizard engaged briefly but retreated. Bulbasaur blocking southern access. Pikachu scattered in the east. Mewtwo channeling psychic force.\",\n",
        "        {\"entities\": [(11, 20, \"POKEMON\"), (55, 64, \"POKEMON\"), (91, 98, \"POKEMON\"), (111, 117, \"POKEMON\")]}\n",
        "    ),\n",
        "    (\n",
        "        \"Intel confirms: Bulbasaurs multiplying rapidly. Pikachu groups avoiding confrontation. Mewtwo unseen for days. Charizard still circling mountain ranges.\",\n",
        "        {\"entities\": [(15, 25, \"POKEMON\"), (51, 58, \"POKEMON\"), (83, 89, \"POKEMON\"), (113, 122, \"POKEMON\")]}\n",
        "    ),\n",
        "    (\n",
        "        \"HQ directives: Neutralize Bulbasaur nests in sector four. Pikachus remain non-hostile. Charizard considered a high threat. Mewtwo controlling remotely.\",\n",
        "        {\"entities\": [(22, 31, \"POKEMON\"), (59, 67, \"POKEMON\"), (87, 96, \"POKEMON\"), (118, 124, \"POKEMON\")]}\n",
        "    ),\n",
        "    (\n",
        "        \"Patrols detected: Pikachu interacting with civilians. Bulbasaur entrenched near caves. Charizard sighted far above. Mewtwo gave no response.\",\n",
        "        {\"entities\": [(17, 24, \"POKEMON\"), (56, 65, \"POKEMON\"), (87, 96, \"POKEMON\"), (112, 118, \"POKEMON\")]}\n",
        "    ),\n",
        "    (\n",
        "        \"Recon logs: Charizard overflying ridge at dawn. Pikachu distracted scouts. Mewtwo spotted late evening. Bulbasaurs spread across riverbanks.\",\n",
        "        {\"entities\": [(11, 20, \"POKEMON\"), (46, 53, \"POKEMON\"), (63, 69, \"POKEMON\"), (97, 107, \"POKEMON\")]}\n",
        "    ),\n",
        "    (\n",
        "        \"HQ update: Bulbasaur presence high in marshes. Pikachu patrolling edges of supply lines. Charizard flying overhead. Mewtwo projecting mental images.\",\n",
        "        {\"entities\": [(10, 19, \"POKEMON\"), (45, 52, \"POKEMON\"), (82, 91, \"POKEMON\"), (99, 105, \"POKEMON\")]}\n",
        "    ),\n",
        "]\n",
        "\n",
        "\n",
        "# ----------------------\n",
        "# Settings: where to save the trained model\n",
        "# ----------------------\n",
        "# By default we save to /content/pokemon_ner (fast local). To persist across Colab restarts,\n",
        "# set SAVE_TO_DRIVE = True and provide DRIVE_SAVE_PATH (see below).\n",
        "MODEL_DIR = \"/content/pokemon_ner\"\n",
        "\n",
        "# Always retrain when TRAIN_DATA changes\n",
        "if os.path.exists(MODEL_DIR):\n",
        "    # Remove the old model so retraining happens fresh\n",
        "    import shutil\n",
        "    shutil.rmtree(MODEL_DIR)"
      ],
      "metadata": {
        "id": "ZPmUta1l57ZL"
      },
      "execution_count": null,
      "outputs": []
    },
    {
      "cell_type": "code",
      "source": [
        "print(\"Training new model...\")\n",
        "nlp = spacy.load(\"en_core_web_sm\")\n",
        "if \"ner\" not in nlp.pipe_names:\n",
        "    ner = nlp.add_pipe(\"ner\")\n",
        "else:\n",
        "    ner = nlp.get_pipe(\"ner\")\n",
        "\n",
        "LABEL = \"POKEMON\"\n",
        "if LABEL not in ner.labels:\n",
        "    ner.add_label(LABEL)\n",
        "\n",
        "# Disable other pipes to only train NER\n",
        "other_pipes = [pipe for pipe in nlp.pipe_names if pipe != \"ner\"]\n",
        "with nlp.disable_pipes(*other_pipes):\n",
        "    optimizer = nlp.resume_training()\n",
        "    n_iter = 40  # training iterations\n",
        "    for itn in range(n_iter):\n",
        "        random.shuffle(TRAIN_DATA)\n",
        "        losses = {}\n",
        "        batches = minibatch(TRAIN_DATA, size=compounding(2.0, 8.0, 1.5))\n",
        "        for batch in batches:\n",
        "            examples = []\n",
        "            for text, ann in batch:\n",
        "                doc = nlp.make_doc(text)\n",
        "                example = Example.from_dict(doc, ann)\n",
        "                examples.append(example)\n",
        "            nlp.update(examples, sgd=optimizer, drop=0.35, losses=losses)\n",
        "        print(f\"Iter {itn+1}/{n_iter} — Losses: {losses}\")\n",
        "\n",
        "# Save trained model\n",
        "nlp.to_disk(MODEL_DIR)\n",
        "print(\"✅ Model saved to\", MODEL_DIR)"
      ],
      "metadata": {
        "colab": {
          "base_uri": "https://localhost:8080/"
        },
        "id": "DYv1EBEC6Aak",
        "outputId": "3a92a3cd-abda-4850-ec39-2e999de88a56"
      },
      "execution_count": null,
      "outputs": [
        {
          "output_type": "stream",
          "name": "stdout",
          "text": [
            "Training new model...\n"
          ]
        },
        {
          "output_type": "stream",
          "name": "stderr",
          "text": [
            "/usr/local/lib/python3.12/dist-packages/spacy/training/iob_utils.py:149: UserWarning: [W030] Some entities could not be aligned in the text \"Charizard unleashed a fiery blast, but Pikachu dod...\" with entities \"[(0, 9, 'POKEMON'), (45, 52, 'POKEMON'), (83, 89, ...\". Use `spacy.training.offsets_to_biluo_tags(nlp.make_doc(text), entities)` to check the alignment. Misaligned entities ('-') will be ignored during training.\n",
            "  warnings.warn(\n",
            "/usr/local/lib/python3.12/dist-packages/spacy/training/iob_utils.py:149: UserWarning: [W030] Some entities could not be aligned in the text \"Command reports: Mewtwo manipulating Bulbasaur swa...\" with entities \"[(17, 23, 'POKEMON'), (38, 47, 'POKEMON'), (68, 75...\". Use `spacy.training.offsets_to_biluo_tags(nlp.make_doc(text), entities)` to check the alignment. Misaligned entities ('-') will be ignored during training.\n",
            "  warnings.warn(\n",
            "/usr/local/lib/python3.12/dist-packages/spacy/training/iob_utils.py:149: UserWarning: [W030] Some entities could not be aligned in the text \"Bulbasaur and Mewtwo worked together to solve the ...\" with entities \"[(0, 9, 'POKEMON'), (14, 20, 'POKEMON'), (57, 64, ...\". Use `spacy.training.offsets_to_biluo_tags(nlp.make_doc(text), entities)` to check the alignment. Misaligned entities ('-') will be ignored during training.\n",
            "  warnings.warn(\n",
            "/usr/local/lib/python3.12/dist-packages/spacy/training/iob_utils.py:149: UserWarning: [W030] Some entities could not be aligned in the text \"Bulbasaur, Pikachu, and Charizard explored the anc...\" with entities \"[(0, 9, 'POKEMON'), (11, 18, 'POKEMON'), (24, 33, ...\". Use `spacy.training.offsets_to_biluo_tags(nlp.make_doc(text), entities)` to check the alignment. Misaligned entities ('-') will be ignored during training.\n",
            "  warnings.warn(\n",
            "/usr/local/lib/python3.12/dist-packages/spacy/training/iob_utils.py:149: UserWarning: [W030] Some entities could not be aligned in the text \"Commander note: Several Bulbasaurs moving quickly ...\" with entities \"[(19, 29, 'POKEMON'), (63, 69, 'POKEMON'), (81, 88...\". Use `spacy.training.offsets_to_biluo_tags(nlp.make_doc(text), entities)` to check the alignment. Misaligned entities ('-') will be ignored during training.\n",
            "  warnings.warn(\n",
            "/usr/local/lib/python3.12/dist-packages/spacy/training/iob_utils.py:149: UserWarning: [W030] Some entities could not be aligned in the text \"The four friends—Charizard, Pikachu, Mewtwo, and B...\" with entities \"[(19, 28, 'POKEMON'), (30, 37, 'POKEMON'), (39, 45...\". Use `spacy.training.offsets_to_biluo_tags(nlp.make_doc(text), entities)` to check the alignment. Misaligned entities ('-') will be ignored during training.\n",
            "  warnings.warn(\n",
            "/usr/local/lib/python3.12/dist-packages/spacy/training/iob_utils.py:149: UserWarning: [W030] Some entities could not be aligned in the text \"HQ reports: Charizard engaged briefly but retreate...\" with entities \"[(11, 20, 'POKEMON'), (55, 64, 'POKEMON'), (91, 98...\". Use `spacy.training.offsets_to_biluo_tags(nlp.make_doc(text), entities)` to check the alignment. Misaligned entities ('-') will be ignored during training.\n",
            "  warnings.warn(\n",
            "/usr/local/lib/python3.12/dist-packages/spacy/training/iob_utils.py:149: UserWarning: [W030] Some entities could not be aligned in the text \"As the sun set, Mewtwo meditated quietly, while Ch...\" with entities \"[(16, 22, 'POKEMON'), (45, 54, 'POKEMON'), (68, 75...\". Use `spacy.training.offsets_to_biluo_tags(nlp.make_doc(text), entities)` to check the alignment. Misaligned entities ('-') will be ignored during training.\n",
            "  warnings.warn(\n",
            "/usr/local/lib/python3.12/dist-packages/spacy/training/iob_utils.py:149: UserWarning: [W030] Some entities could not be aligned in the text \"Intel confirms: Bulbasaurs multiplying rapidly. Pi...\" with entities \"[(15, 25, 'POKEMON'), (51, 58, 'POKEMON'), (83, 89...\". Use `spacy.training.offsets_to_biluo_tags(nlp.make_doc(text), entities)` to check the alignment. Misaligned entities ('-') will be ignored during training.\n",
            "  warnings.warn(\n",
            "/usr/local/lib/python3.12/dist-packages/spacy/training/iob_utils.py:149: UserWarning: [W030] Some entities could not be aligned in the text \"Charizard and Pikachu teamed up to face Mewtwo in ...\" with entities \"[(0, 9, 'POKEMON'), (14, 21, 'POKEMON'), (40, 46, ...\". Use `spacy.training.offsets_to_biluo_tags(nlp.make_doc(text), entities)` to check the alignment. Misaligned entities ('-') will be ignored during training.\n",
            "  warnings.warn(\n",
            "/usr/local/lib/python3.12/dist-packages/spacy/training/iob_utils.py:149: UserWarning: [W030] Some entities could not be aligned in the text \"HQ update: Bulbasaur presence high in marshes. Pik...\" with entities \"[(10, 19, 'POKEMON'), (45, 52, 'POKEMON'), (82, 91...\". Use `spacy.training.offsets_to_biluo_tags(nlp.make_doc(text), entities)` to check the alignment. Misaligned entities ('-') will be ignored during training.\n",
            "  warnings.warn(\n",
            "/usr/local/lib/python3.12/dist-packages/spacy/training/iob_utils.py:149: UserWarning: [W030] Some entities could not be aligned in the text \"Scouts intercepted Pikachus traveling east. Bulbas...\" with entities \"[(19, 27, 'POKEMON'), (39, 48, 'POKEMON'), (63, 69...\". Use `spacy.training.offsets_to_biluo_tags(nlp.make_doc(text), entities)` to check the alignment. Misaligned entities ('-') will be ignored during training.\n",
            "  warnings.warn(\n",
            "/usr/local/lib/python3.12/dist-packages/spacy/training/iob_utils.py:149: UserWarning: [W030] Some entities could not be aligned in the text \"HQ confirms multiple Bulbasaurs nesting near the w...\" with entities \"[(20, 30, 'POKEMON'), (62, 70, 'POKEMON'), (112, 1...\". Use `spacy.training.offsets_to_biluo_tags(nlp.make_doc(text), entities)` to check the alignment. Misaligned entities ('-') will be ignored during training.\n",
            "  warnings.warn(\n",
            "/usr/local/lib/python3.12/dist-packages/spacy/training/iob_utils.py:149: UserWarning: [W030] Some entities could not be aligned in the text \"Field report: Bulbasaur activity near rivers incre...\" with entities \"[(14, 23, 'POKEMON'), (55, 64, 'POKEMON'), (82, 89...\". Use `spacy.training.offsets_to_biluo_tags(nlp.make_doc(text), entities)` to check the alignment. Misaligned entities ('-') will be ignored during training.\n",
            "  warnings.warn(\n",
            "/usr/local/lib/python3.12/dist-packages/spacy/training/iob_utils.py:149: UserWarning: [W030] Some entities could not be aligned in the text \"HQ alert: Pikachu units have established positions...\" with entities \"[(9, 16, 'POKEMON'), (70, 79, 'POKEMON'), (111, 12...\". Use `spacy.training.offsets_to_biluo_tags(nlp.make_doc(text), entities)` to check the alignment. Misaligned entities ('-') will be ignored during training.\n",
            "  warnings.warn(\n",
            "/usr/local/lib/python3.12/dist-packages/spacy/training/iob_utils.py:149: UserWarning: [W030] Some entities could not be aligned in the text \"Mewtwo challenged Charizard to a duel at sunrise. ...\" with entities \"[(0, 6, 'POKEMON'), (18, 27, 'POKEMON'), (41, 48, ...\". Use `spacy.training.offsets_to_biluo_tags(nlp.make_doc(text), entities)` to check the alignment. Misaligned entities ('-') will be ignored during training.\n",
            "  warnings.warn(\n",
            "/usr/local/lib/python3.12/dist-packages/spacy/training/iob_utils.py:149: UserWarning: [W030] Some entities could not be aligned in the text \"Recon suggests Pikachu disrupting electronics in H...\" with entities \"[(14, 21, 'POKEMON'), (52, 61, 'POKEMON'), (71, 77...\". Use `spacy.training.offsets_to_biluo_tags(nlp.make_doc(text), entities)` to check the alignment. Misaligned entities ('-') will be ignored during training.\n",
            "  warnings.warn(\n",
            "/usr/local/lib/python3.12/dist-packages/spacy/training/iob_utils.py:149: UserWarning: [W030] Some entities could not be aligned in the text \"Tactical briefing: Bulbasaur nests multiplying acr...\" with entities \"[(19, 28, 'POKEMON'), (58, 67, 'POKEMON'), (96, 10...\". Use `spacy.training.offsets_to_biluo_tags(nlp.make_doc(text), entities)` to check the alignment. Misaligned entities ('-') will be ignored during training.\n",
            "  warnings.warn(\n",
            "/usr/local/lib/python3.12/dist-packages/spacy/training/iob_utils.py:149: UserWarning: [W030] Some entities could not be aligned in the text \"Pikachu ran circles around Bulbasaur, while Chariz...\" with entities \"[(0, 7, 'POKEMON'), (27, 36, 'POKEMON'), (44, 53, ...\". Use `spacy.training.offsets_to_biluo_tags(nlp.make_doc(text), entities)` to check the alignment. Misaligned entities ('-') will be ignored during training.\n",
            "  warnings.warn(\n",
            "/usr/local/lib/python3.12/dist-packages/spacy/training/iob_utils.py:149: UserWarning: [W030] Some entities could not be aligned in the text \"Mission orders: Charizard to be monitored but not ...\" with entities \"[(16, 25, 'POKEMON'), (58, 64, 'POKEMON'), (87, 96...\". Use `spacy.training.offsets_to_biluo_tags(nlp.make_doc(text), entities)` to check the alignment. Misaligned entities ('-') will be ignored during training.\n",
            "  warnings.warn(\n",
            "/usr/local/lib/python3.12/dist-packages/spacy/training/iob_utils.py:149: UserWarning: [W030] Some entities could not be aligned in the text \"HQ directives: Neutralize Bulbasaur nests in secto...\" with entities \"[(22, 31, 'POKEMON'), (59, 67, 'POKEMON'), (87, 96...\". Use `spacy.training.offsets_to_biluo_tags(nlp.make_doc(text), entities)` to check the alignment. Misaligned entities ('-') will be ignored during training.\n",
            "  warnings.warn(\n",
            "/usr/local/lib/python3.12/dist-packages/spacy/training/iob_utils.py:149: UserWarning: [W030] Some entities could not be aligned in the text \"Patrols detected: Pikachu interacting with civilia...\" with entities \"[(17, 24, 'POKEMON'), (56, 65, 'POKEMON'), (87, 96...\". Use `spacy.training.offsets_to_biluo_tags(nlp.make_doc(text), entities)` to check the alignment. Misaligned entities ('-') will be ignored during training.\n",
            "  warnings.warn(\n",
            "/usr/local/lib/python3.12/dist-packages/spacy/training/iob_utils.py:149: UserWarning: [W030] Some entities could not be aligned in the text \"Urgent: Pikachu interference disrupted comm lines ...\" with entities \"[(8, 15, 'POKEMON'), (54, 63, 'POKEMON'), (65, 74,...\". Use `spacy.training.offsets_to_biluo_tags(nlp.make_doc(text), entities)` to check the alignment. Misaligned entities ('-') will be ignored during training.\n",
            "  warnings.warn(\n",
            "/usr/local/lib/python3.12/dist-packages/spacy/training/iob_utils.py:149: UserWarning: [W030] Some entities could not be aligned in the text \"Satellite scan: Mewtwo coordinating Pikachu units....\" with entities \"[(16, 22, 'POKEMON'), (36, 43, 'POKEMON'), (45, 54...\". Use `spacy.training.offsets_to_biluo_tags(nlp.make_doc(text), entities)` to check the alignment. Misaligned entities ('-') will be ignored during training.\n",
            "  warnings.warn(\n",
            "/usr/local/lib/python3.12/dist-packages/spacy/training/iob_utils.py:149: UserWarning: [W030] Some entities could not be aligned in the text \"In the heart of the forest, Pikachu darted between...\" with entities \"[(32, 39, 'POKEMON'), (98, 107, 'POKEMON'), (147, ...\". Use `spacy.training.offsets_to_biluo_tags(nlp.make_doc(text), entities)` to check the alignment. Misaligned entities ('-') will be ignored during training.\n",
            "  warnings.warn(\n",
            "/usr/local/lib/python3.12/dist-packages/spacy/training/iob_utils.py:149: UserWarning: [W030] Some entities could not be aligned in the text \"HQ intel: Charizard hovering above the valley, whi...\" with entities \"[(9, 18, 'POKEMON'), (45, 52, 'POKEMON'), (82, 92,...\". Use `spacy.training.offsets_to_biluo_tags(nlp.make_doc(text), entities)` to check the alignment. Misaligned entities ('-') will be ignored during training.\n",
            "  warnings.warn(\n",
            "/usr/local/lib/python3.12/dist-packages/spacy/training/iob_utils.py:149: UserWarning: [W030] Some entities could not be aligned in the text \"Recon logs: Charizard overflying ridge at dawn. Pi...\" with entities \"[(11, 20, 'POKEMON'), (46, 53, 'POKEMON'), (63, 69...\". Use `spacy.training.offsets_to_biluo_tags(nlp.make_doc(text), entities)` to check the alignment. Misaligned entities ('-') will be ignored during training.\n",
            "  warnings.warn(\n"
          ]
        },
        {
          "output_type": "stream",
          "name": "stdout",
          "text": [
            "Iter 1/40 — Losses: {'ner': np.float32(77.63294)}\n",
            "Iter 2/40 — Losses: {'ner': np.float32(71.764946)}\n",
            "Iter 3/40 — Losses: {'ner': np.float32(64.15825)}\n",
            "Iter 4/40 — Losses: {'ner': np.float32(56.88054)}\n",
            "Iter 5/40 — Losses: {'ner': np.float32(50.080494)}\n",
            "Iter 6/40 — Losses: {'ner': np.float32(45.126404)}\n",
            "Iter 7/40 — Losses: {'ner': np.float32(37.947815)}\n",
            "Iter 8/40 — Losses: {'ner': np.float32(28.20848)}\n",
            "Iter 9/40 — Losses: {'ner': np.float32(26.754393)}\n",
            "Iter 10/40 — Losses: {'ner': np.float32(23.124144)}\n",
            "Iter 11/40 — Losses: {'ner': np.float32(20.778551)}\n",
            "Iter 12/40 — Losses: {'ner': np.float32(15.714315)}\n",
            "Iter 13/40 — Losses: {'ner': np.float32(12.010701)}\n",
            "Iter 14/40 — Losses: {'ner': np.float32(9.841159)}\n",
            "Iter 15/40 — Losses: {'ner': np.float32(5.46999)}\n",
            "Iter 16/40 — Losses: {'ner': np.float32(7.9427304)}\n",
            "Iter 17/40 — Losses: {'ner': np.float32(5.6683974)}\n",
            "Iter 18/40 — Losses: {'ner': np.float32(3.4057071)}\n",
            "Iter 19/40 — Losses: {'ner': np.float32(5.433141)}\n",
            "Iter 20/40 — Losses: {'ner': np.float32(5.100459)}\n",
            "Iter 21/40 — Losses: {'ner': np.float32(1.9946752)}\n",
            "Iter 22/40 — Losses: {'ner': np.float32(1.7287914)}\n",
            "Iter 23/40 — Losses: {'ner': np.float32(1.0725536)}\n",
            "Iter 24/40 — Losses: {'ner': np.float32(1.300923)}\n",
            "Iter 25/40 — Losses: {'ner': np.float32(2.4197497)}\n",
            "Iter 26/40 — Losses: {'ner': np.float32(26.426598)}\n",
            "Iter 27/40 — Losses: {'ner': np.float32(25.969065)}\n",
            "Iter 28/40 — Losses: {'ner': np.float32(2.3519328)}\n",
            "Iter 29/40 — Losses: {'ner': np.float32(4.232484)}\n",
            "Iter 30/40 — Losses: {'ner': np.float32(2.462156)}\n",
            "Iter 31/40 — Losses: {'ner': np.float32(1.9375384)}\n",
            "Iter 32/40 — Losses: {'ner': np.float32(2.8366683)}\n",
            "Iter 33/40 — Losses: {'ner': np.float32(0.8496646)}\n",
            "Iter 34/40 — Losses: {'ner': np.float32(0.8882289)}\n",
            "Iter 35/40 — Losses: {'ner': np.float32(0.6096866)}\n",
            "Iter 36/40 — Losses: {'ner': np.float32(1.4136059)}\n",
            "Iter 37/40 — Losses: {'ner': np.float32(0.8276511)}\n",
            "Iter 38/40 — Losses: {'ner': np.float32(1.7187386)}\n",
            "Iter 39/40 — Losses: {'ner': np.float32(0.06887539)}\n",
            "Iter 40/40 — Losses: {'ner': np.float32(0.091014616)}\n",
            "✅ Model saved to /content/pokemon_ner\n"
          ]
        }
      ]
    },
    {
      "cell_type": "code",
      "source": [
        "nlp = spacy.load(MODEL_DIR)"
      ],
      "metadata": {
        "id": "5qoSioUg6GZ0"
      },
      "execution_count": null,
      "outputs": []
    },
    {
      "cell_type": "code",
      "source": [
        "def extract_pokemon_entities(text):\n",
        "    \"\"\"\n",
        "    Returns list of dicts: [{\"text\": \"Charizad\", \"label\": \"POKEMON\"}, ...]\n",
        "    \"\"\"\n",
        "    doc = nlp(text)\n",
        "    return [{\"text\": ent.text, \"label\": ent.label_} for ent in doc.ents if ent.label_ == \"POKEMON\"]"
      ],
      "metadata": {
        "id": "k0jo6iNl6I3D"
      },
      "execution_count": null,
      "outputs": []
    },
    {
      "cell_type": "code",
      "source": [
        "test_prompt = \"Bulbasaur is peeing in the garden\"\n",
        "print(\"Input:\", test_prompt)\n",
        "print(\"NER output:\", extract_pokemon_entities(test_prompt))"
      ],
      "metadata": {
        "colab": {
          "base_uri": "https://localhost:8080/"
        },
        "id": "-XHO0sK_DpyL",
        "outputId": "f4724237-3482-4bd9-cbb9-a34b8a0adc9b"
      },
      "execution_count": null,
      "outputs": [
        {
          "output_type": "stream",
          "name": "stdout",
          "text": [
            "Input: Bulbasaur is peeing in the garden\n",
            "NER output: [{'text': 'Bulbasaur', 'label': 'POKEMON'}]\n"
          ]
        }
      ]
    }
  ]
}